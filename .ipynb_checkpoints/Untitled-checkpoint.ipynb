{
 "cells": [
  {
   "cell_type": "code",
   "execution_count": 18,
   "id": "enhanced-criterion",
   "metadata": {},
   "outputs": [
    {
     "name": "stdout",
     "output_type": "stream",
     "text": [
      "Found 10901 images belonging to 6 classes.\n",
      "Found 2698 images belonging to 6 classes.\n",
      "Batch shape=(32, 32, 32, 3), min=0.000, max=1.000\n"
     ]
    }
   ],
   "source": [
    "# data loading\n",
    "\n",
    "from keras.preprocessing.image import ImageDataGenerator\n",
    "# create generator\n",
    "datagen = ImageDataGenerator(rescale=1/255)\n",
    "# prepare an iterators for each dataset\n",
    "train_it = datagen.flow_from_directory('dataset/train/', class_mode='categorical', target_size=(32, 32))\n",
    "test_it = datagen.flow_from_directory('dataset/test/', class_mode='categorical', target_size=(32, 32))\n",
    "# confirm the iterator works\n",
    "batchX, batchy = train_it.next()\n",
    "print('Batch shape=%s, min=%.3f, max=%.3f' % (batchX.shape, batchX.min(), batchX.max()))"
   ]
  },
  {
   "cell_type": "code",
   "execution_count": 19,
   "id": "welcome-friendly",
   "metadata": {},
   "outputs": [],
   "source": [
    "from tensorflow.python.keras import layers\n",
    "import tensorflow as tf\n",
    "from tensorflow.python.keras.engine.keras_tensor import KerasTensor\n",
    "# model\n",
    "\n",
    "def residual(x: KerasTensor, num_channel: int) -> KerasTensor:\n",
    "    \"\"\"A ResNet unit for ResNet9.\n",
    "    Args:\n",
    "        x: Input Keras tensor.\n",
    "        num_channel: The number of layer channel.\n",
    "    Return:\n",
    "        Output Keras tensor.\n",
    "    \"\"\"\n",
    "    x = layers.Conv2D(num_channel, 3, padding='same')(x)\n",
    "    x = layers.BatchNormalization(momentum=0.8)(x)\n",
    "    x = layers.LeakyReLU(alpha=0.1)(x)\n",
    "    x = layers.Conv2D(num_channel, 3, padding='same')(x)\n",
    "    x = layers.BatchNormalization(momentum=0.8)(x)\n",
    "    x = layers.LeakyReLU(alpha=0.1)(x)\n",
    "    return x\n",
    "\n",
    "def create_model():\n",
    "    inp = layers.Input(shape=(32, 32, 3))\n",
    "    x = layers.Conv2D(64, 3, padding='same')(inp)\n",
    "    x = layers.BatchNormalization(momentum=0.8)(x)\n",
    "    x = layers.LeakyReLU(alpha=0.1)(x)\n",
    "    # layer1\n",
    "    x = layers.Conv2D(128, 3, padding='same')(x)\n",
    "    x = layers.MaxPool2D()(x)\n",
    "    x = layers.BatchNormalization(momentum=0.8)(x)\n",
    "    x = layers.LeakyReLU(alpha=0.1)(x)\n",
    "    x = layers.Add()([x, residual(x, 128)])\n",
    "    # layer2\n",
    "    x = layers.Conv2D(256, 3, padding='same')(x)\n",
    "    x = layers.MaxPool2D()(x)\n",
    "    x = layers.BatchNormalization(momentum=0.8)(x)\n",
    "    x = layers.LeakyReLU(alpha=0.1)(x)\n",
    "    # layer3\n",
    "    x = layers.Conv2D(512, 3, padding='same')(x)\n",
    "    x = layers.MaxPool2D()(x)\n",
    "    x = layers.BatchNormalization(momentum=0.8)(x)\n",
    "    x = layers.LeakyReLU(alpha=0.1)(x)\n",
    "    x = layers.Add()([x, residual(x, 512)])\n",
    "    # layers4\n",
    "    x = layers.GlobalMaxPool2D()(x)\n",
    "    x = layers.Flatten()(x)\n",
    "    x = layers.Dense(6)(x)\n",
    "    x = layers.Activation('softmax', dtype='float32')(x)\n",
    "    model = tf.keras.Model(inputs=inp, outputs=x)\n",
    "\n",
    "    return model"
   ]
  },
  {
   "cell_type": "code",
   "execution_count": 20,
   "id": "casual-research",
   "metadata": {},
   "outputs": [
    {
     "name": "stdout",
     "output_type": "stream",
     "text": [
      "Model: \"model_1\"\n",
      "__________________________________________________________________________________________________\n",
      "Layer (type)                    Output Shape         Param #     Connected to                     \n",
      "==================================================================================================\n",
      "input_7 (InputLayer)            [(None, 32, 32, 3)]  0                                            \n",
      "__________________________________________________________________________________________________\n",
      "conv2d_36 (Conv2D)              (None, 32, 32, 64)   1792        input_7[0][0]                    \n",
      "__________________________________________________________________________________________________\n",
      "batch_normalization_36 (BatchNo (None, 32, 32, 64)   256         conv2d_36[0][0]                  \n",
      "__________________________________________________________________________________________________\n",
      "leaky_re_lu_36 (LeakyReLU)      (None, 32, 32, 64)   0           batch_normalization_36[0][0]     \n",
      "__________________________________________________________________________________________________\n",
      "conv2d_37 (Conv2D)              (None, 32, 32, 128)  73856       leaky_re_lu_36[0][0]             \n",
      "__________________________________________________________________________________________________\n",
      "max_pooling2d_14 (MaxPooling2D) (None, 16, 16, 128)  0           conv2d_37[0][0]                  \n",
      "__________________________________________________________________________________________________\n",
      "batch_normalization_37 (BatchNo (None, 16, 16, 128)  512         max_pooling2d_14[0][0]           \n",
      "__________________________________________________________________________________________________\n",
      "leaky_re_lu_37 (LeakyReLU)      (None, 16, 16, 128)  0           batch_normalization_37[0][0]     \n",
      "__________________________________________________________________________________________________\n",
      "conv2d_38 (Conv2D)              (None, 16, 16, 128)  147584      leaky_re_lu_37[0][0]             \n",
      "__________________________________________________________________________________________________\n",
      "batch_normalization_38 (BatchNo (None, 16, 16, 128)  512         conv2d_38[0][0]                  \n",
      "__________________________________________________________________________________________________\n",
      "leaky_re_lu_38 (LeakyReLU)      (None, 16, 16, 128)  0           batch_normalization_38[0][0]     \n",
      "__________________________________________________________________________________________________\n",
      "conv2d_39 (Conv2D)              (None, 16, 16, 128)  147584      leaky_re_lu_38[0][0]             \n",
      "__________________________________________________________________________________________________\n",
      "batch_normalization_39 (BatchNo (None, 16, 16, 128)  512         conv2d_39[0][0]                  \n",
      "__________________________________________________________________________________________________\n",
      "leaky_re_lu_39 (LeakyReLU)      (None, 16, 16, 128)  0           batch_normalization_39[0][0]     \n",
      "__________________________________________________________________________________________________\n",
      "add_10 (Add)                    (None, 16, 16, 128)  0           leaky_re_lu_37[0][0]             \n",
      "                                                                 leaky_re_lu_39[0][0]             \n",
      "__________________________________________________________________________________________________\n",
      "conv2d_40 (Conv2D)              (None, 16, 16, 256)  295168      add_10[0][0]                     \n",
      "__________________________________________________________________________________________________\n",
      "max_pooling2d_15 (MaxPooling2D) (None, 8, 8, 256)    0           conv2d_40[0][0]                  \n",
      "__________________________________________________________________________________________________\n",
      "batch_normalization_40 (BatchNo (None, 8, 8, 256)    1024        max_pooling2d_15[0][0]           \n",
      "__________________________________________________________________________________________________\n",
      "leaky_re_lu_40 (LeakyReLU)      (None, 8, 8, 256)    0           batch_normalization_40[0][0]     \n",
      "__________________________________________________________________________________________________\n",
      "conv2d_41 (Conv2D)              (None, 8, 8, 512)    1180160     leaky_re_lu_40[0][0]             \n",
      "__________________________________________________________________________________________________\n",
      "max_pooling2d_16 (MaxPooling2D) (None, 4, 4, 512)    0           conv2d_41[0][0]                  \n",
      "__________________________________________________________________________________________________\n",
      "batch_normalization_41 (BatchNo (None, 4, 4, 512)    2048        max_pooling2d_16[0][0]           \n",
      "__________________________________________________________________________________________________\n",
      "leaky_re_lu_41 (LeakyReLU)      (None, 4, 4, 512)    0           batch_normalization_41[0][0]     \n",
      "__________________________________________________________________________________________________\n",
      "conv2d_42 (Conv2D)              (None, 4, 4, 512)    2359808     leaky_re_lu_41[0][0]             \n",
      "__________________________________________________________________________________________________\n",
      "batch_normalization_42 (BatchNo (None, 4, 4, 512)    2048        conv2d_42[0][0]                  \n",
      "__________________________________________________________________________________________________\n",
      "leaky_re_lu_42 (LeakyReLU)      (None, 4, 4, 512)    0           batch_normalization_42[0][0]     \n",
      "__________________________________________________________________________________________________\n",
      "conv2d_43 (Conv2D)              (None, 4, 4, 512)    2359808     leaky_re_lu_42[0][0]             \n",
      "__________________________________________________________________________________________________\n",
      "batch_normalization_43 (BatchNo (None, 4, 4, 512)    2048        conv2d_43[0][0]                  \n",
      "__________________________________________________________________________________________________\n",
      "leaky_re_lu_43 (LeakyReLU)      (None, 4, 4, 512)    0           batch_normalization_43[0][0]     \n",
      "__________________________________________________________________________________________________\n",
      "add_11 (Add)                    (None, 4, 4, 512)    0           leaky_re_lu_41[0][0]             \n",
      "                                                                 leaky_re_lu_43[0][0]             \n",
      "__________________________________________________________________________________________________\n",
      "global_max_pooling2d_4 (GlobalM (None, 512)          0           add_11[0][0]                     \n",
      "__________________________________________________________________________________________________\n",
      "flatten_4 (Flatten)             (None, 512)          0           global_max_pooling2d_4[0][0]     \n",
      "__________________________________________________________________________________________________\n",
      "dense_2 (Dense)                 (None, 6)            3078        flatten_4[0][0]                  \n",
      "__________________________________________________________________________________________________\n",
      "activation_2 (Activation)       (None, 6)            0           dense_2[0][0]                    \n",
      "==================================================================================================\n",
      "Total params: 6,577,798\n",
      "Trainable params: 6,573,318\n",
      "Non-trainable params: 4,480\n",
      "__________________________________________________________________________________________________\n"
     ]
    }
   ],
   "source": [
    "model = create_model()\n",
    "model.summary()"
   ]
  },
  {
   "cell_type": "code",
   "execution_count": 21,
   "id": "dried-vehicle",
   "metadata": {},
   "outputs": [
    {
     "name": "stdout",
     "output_type": "stream",
     "text": [
      "Epoch 1/10\n",
      "341/341 [==============================] - 155s 452ms/step - loss: 0.5026 - accuracy: 0.8465 - val_loss: 0.2888 - val_accuracy: 0.8936\n",
      "Epoch 2/10\n",
      "341/341 [==============================] - 139s 408ms/step - loss: 0.2023 - accuracy: 0.9272 - val_loss: 0.1752 - val_accuracy: 0.9359\n",
      "Epoch 3/10\n",
      "341/341 [==============================] - 166s 488ms/step - loss: 0.1202 - accuracy: 0.9577 - val_loss: 0.0682 - val_accuracy: 0.9737\n",
      "Epoch 4/10\n",
      "341/341 [==============================] - 193s 566ms/step - loss: 0.0900 - accuracy: 0.9695 - val_loss: 0.0949 - val_accuracy: 0.9640\n",
      "Epoch 5/10\n",
      "341/341 [==============================] - 147s 432ms/step - loss: 0.0536 - accuracy: 0.9809 - val_loss: 0.0495 - val_accuracy: 0.9811\n",
      "Epoch 6/10\n",
      "341/341 [==============================] - 140s 412ms/step - loss: 0.0597 - accuracy: 0.9795 - val_loss: 0.2112 - val_accuracy: 0.9229\n",
      "Epoch 7/10\n",
      "341/341 [==============================] - 138s 406ms/step - loss: 0.0473 - accuracy: 0.9839 - val_loss: 0.0639 - val_accuracy: 0.9785\n",
      "Epoch 8/10\n",
      "341/341 [==============================] - 130s 380ms/step - loss: 0.0491 - accuracy: 0.9831 - val_loss: 0.0681 - val_accuracy: 0.9748\n",
      "Epoch 9/10\n",
      "341/341 [==============================] - 127s 372ms/step - loss: 0.0243 - accuracy: 0.9920 - val_loss: 0.0449 - val_accuracy: 0.9855\n",
      "Epoch 10/10\n",
      "341/341 [==============================] - 130s 381ms/step - loss: 0.0401 - accuracy: 0.9872 - val_loss: 0.0901 - val_accuracy: 0.9696\n"
     ]
    }
   ],
   "source": [
    "# compiling the sequential model\n",
    "from keras.utils import np_utils\n",
    "\n",
    "# to calculate accuracy\n",
    "from sklearn.metrics import accuracy_score\n",
    "\n",
    "\n",
    "model.compile(loss='categorical_crossentropy', metrics=['accuracy'], optimizer='adam')\n",
    "\n",
    "history = model.fit(train_it, epochs=10, validation_data=test_it, verbose = 1)"
   ]
  },
  {
   "cell_type": "code",
   "execution_count": 22,
   "id": "acoustic-episode",
   "metadata": {},
   "outputs": [
    {
     "name": "stdout",
     "output_type": "stream",
     "text": [
      "dict_keys(['loss', 'accuracy', 'val_loss', 'val_accuracy'])\n"
     ]
    },
    {
     "data": {
      "image/png": "[encoded data removed]",
      "text/plain": [
       "<Figure size 432x288 with 1 Axes>"
      ]
     },
     "metadata": {
      "needs_background": "light"
     },
     "output_type": "display_data"
    },
    {
     "data": {
      "image/png": "[encoded data removed]",
      "text/plain": [
       "<Figure size 432x288 with 1 Axes>"
      ]
     },
     "metadata": {
      "needs_background": "light"
     },
     "output_type": "display_data"
    }
   ],
   "source": [
    "import matplotlib.pyplot as plt\n",
    "import numpy\n",
    "# list all data in history\n",
    "print(history.history.keys())\n",
    "# summarize history for accuracy\n",
    "plt.plot(history.history['accuracy'])\n",
    "plt.plot(history.history['val_accuracy'])\n",
    "plt.title('model accuracy')\n",
    "plt.ylabel('accuracy')\n",
    "plt.xlabel('epoch')\n",
    "plt.legend(['train', 'test'], loc='upper left')\n",
    "plt.show()\n",
    "# summarize history for loss\n",
    "plt.plot(history.history['loss'])\n",
    "plt.plot(history.history['val_loss'])\n",
    "plt.title('model loss')\n",
    "plt.ylabel('loss')\n",
    "plt.xlabel('epoch')\n",
    "plt.legend(['train', 'test'], loc='upper left')\n",
    "plt.show()"
   ]
  }
 ],
 "metadata": {
  "kernelspec": {
   "display_name": "Python 3",
   "language": "python",
   "name": "python3"
  },
  "language_info": {
   "codemirror_mode": {
    "name": "ipython",
    "version": 3
   },
   "file_extension": ".py",
   "mimetype": "text/x-python",
   "name": "python",
   "nbconvert_exporter": "python",
   "pygments_lexer": "ipython3",
   "version": "3.9.2"
  }
 },
 "nbformat": 4,
 "nbformat_minor": 5
}
