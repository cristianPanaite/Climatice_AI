{
 "cells": [
  {
   "cell_type": "code",
   "execution_count": 6,
   "metadata": {},
   "outputs": [
    {
     "name": "stdout",
     "output_type": "stream",
     "text": [
      "Found 10901 images belonging to 6 classes.\n",
      "Found 2698 images belonging to 6 classes.\n",
      "Batch shape=(32, 32, 32, 3), min=0.000, max=255.000\n"
     ]
    }
   ],
   "source": [
    "# data loading\n",
    "\n",
    "from keras.preprocessing.image import ImageDataGenerator\n",
    "# create generator\n",
    "datagen = ImageDataGenerator()\n",
    "# prepare an iterators for each dataset\n",
    "train_it = datagen.flow_from_directory('dataset/train/', class_mode='categorical', target_size=(32,32))\n",
    "test_it = datagen.flow_from_directory('dataset/test/', class_mode='categorical', target_size=(32,32))\n",
    "# confirm the iterator works\n",
    "batchX, batchy = train_it.next()\n",
    "print('Batch shape=%s, min=%.3f, max=%.3f' % (batchX.shape, batchX.min(), batchX.max()))"
   ]
  },
  {
   "cell_type": "code",
   "execution_count": 7,
   "metadata": {},
   "outputs": [],
   "source": [
    "\n",
    "from tensorflow.keras.applications.vgg16 import preprocess_input\n",
    "from tensorflow.keras.applications.vgg16 import VGG16\n",
    "\n",
    "## Loading VGG16 model-\n",
    "base_model = VGG16(weights=None, include_top=False, input_shape=(32, 32, 3))\n",
    "base_model.trainable = False ## Not trainable weights\n"
   ]
  },
  {
   "cell_type": "code",
   "execution_count": 8,
   "metadata": {},
   "outputs": [],
   "source": [
    "from tensorflow.keras import layers, models\n",
    "\n",
    "flatten_layer = layers.Flatten()\n",
    "dense_layer_1 = layers.Dense(50, activation='relu')\n",
    "dense_layer_2 = layers.Dense(20, activation='relu')\n",
    "prediction_layer = layers.Dense(6, activation='softmax')\n",
    "\n",
    "\n",
    "model = models.Sequential([\n",
    "    base_model,\n",
    "    flatten_layer,\n",
    "    dense_layer_1,\n",
    "    dense_layer_2,\n",
    "    prediction_layer\n",
    "])"
   ]
  },
  {
   "cell_type": "code",
   "execution_count": 9,
   "metadata": {},
   "outputs": [
    {
     "name": "stdout",
     "output_type": "stream",
     "text": [
      "Epoch 1/10\n",
      "341/341 [==============================] - 211s 618ms/step - loss: 1.6485 - accuracy: 0.3280 - val_loss: 1.4795 - val_accuracy: 0.3673\n",
      "Epoch 2/10\n",
      "341/341 [==============================] - 189s 555ms/step - loss: 1.3360 - accuracy: 0.4445 - val_loss: 1.2684 - val_accuracy: 0.4744\n",
      "Epoch 3/10\n",
      "341/341 [==============================] - 134s 394ms/step - loss: 1.1479 - accuracy: 0.5466 - val_loss: 1.0812 - val_accuracy: 0.5956\n",
      "Epoch 4/10\n",
      "341/341 [==============================] - 109s 318ms/step - loss: 1.0266 - accuracy: 0.5971 - val_loss: 1.0260 - val_accuracy: 0.5993\n",
      "Epoch 5/10\n",
      "341/341 [==============================] - 68s 199ms/step - loss: 0.9727 - accuracy: 0.6126 - val_loss: 0.9835 - val_accuracy: 0.6268\n",
      "Epoch 6/10\n",
      "341/341 [==============================] - 68s 199ms/step - loss: 0.9442 - accuracy: 0.6248 - val_loss: 0.9351 - val_accuracy: 0.6401\n",
      "Epoch 7/10\n",
      "341/341 [==============================] - 68s 200ms/step - loss: 0.9175 - accuracy: 0.6331 - val_loss: 0.9050 - val_accuracy: 0.6512\n",
      "Epoch 8/10\n",
      "341/341 [==============================] - 67s 198ms/step - loss: 0.8959 - accuracy: 0.6417 - val_loss: 0.9113 - val_accuracy: 0.6568\n",
      "Epoch 9/10\n",
      "341/341 [==============================] - 55s 161ms/step - loss: 0.8808 - accuracy: 0.6547 - val_loss: 0.8576 - val_accuracy: 0.6683\n",
      "Epoch 10/10\n",
      "341/341 [==============================] - 57s 168ms/step - loss: 0.8528 - accuracy: 0.6651 - val_loss: 0.9742 - val_accuracy: 0.6368\n"
     ]
    }
   ],
   "source": [
    "\n",
    "from tensorflow.keras.callbacks import EarlyStopping\n",
    "\n",
    "model.compile(\n",
    "    optimizer='adam',\n",
    "    loss='categorical_crossentropy',\n",
    "    metrics=['accuracy'],\n",
    ")\n",
    "\n",
    "\n",
    "history = model.fit(train_it, epochs=10, validation_data=test_it, verbose = 1)"
   ]
  },
  {
   "cell_type": "code",
   "execution_count": 10,
   "metadata": {},
   "outputs": [
    {
     "name": "stdout",
     "output_type": "stream",
     "text": [
      "Model: \"sequential_1\"\n",
      "_________________________________________________________________\n",
      " Layer (type)                Output Shape              Param #   \n",
      "=================================================================\n",
      " vgg16 (Functional)          (None, 1, 1, 512)         14714688  \n",
      "                                                                 \n",
      " flatten_1 (Flatten)         (None, 512)               0         \n",
      "                                                                 \n",
      " dense_3 (Dense)             (None, 50)                25650     \n",
      "                                                                 \n",
      " dense_4 (Dense)             (None, 20)                1020      \n",
      "                                                                 \n",
      " dense_5 (Dense)             (None, 6)                 126       \n",
      "                                                                 \n",
      "=================================================================\n",
      "Total params: 14,741,484\n",
      "Trainable params: 26,796\n",
      "Non-trainable params: 14,714,688\n",
      "_________________________________________________________________\n"
     ]
    }
   ],
   "source": [
    "model.summary()"
   ]
  },
  {
   "cell_type": "code",
   "execution_count": 11,
   "metadata": {},
   "outputs": [
    {
     "name": "stdout",
     "output_type": "stream",
     "text": [
      "dict_keys(['loss', 'accuracy', 'val_loss', 'val_accuracy'])\n"
     ]
    },
    {
     "data": {
      "image/png": "[encoded data removed]",
      "text/plain": [
       "<Figure size 432x288 with 1 Axes>"
      ]
     },
     "metadata": {
      "needs_background": "light"
     },
     "output_type": "display_data"
    },
    {
     "data": {
      "image/png": "[encoded data removed]",
      "text/plain": [
       "<Figure size 432x288 with 1 Axes>"
      ]
     },
     "metadata": {
      "needs_background": "light"
     },
     "output_type": "display_data"
    }
   ],
   "source": [
    "import matplotlib.pyplot as plt\n",
    "import numpy\n",
    "# list all data in history\n",
    "print(history.history.keys())\n",
    "# summarize history for accuracy\n",
    "plt.plot(history.history['accuracy'])\n",
    "plt.plot(history.history['val_accuracy'])\n",
    "plt.title('model accuracy')\n",
    "plt.ylabel('accuracy')\n",
    "plt.xlabel('epoch')\n",
    "plt.legend(['train', 'test'], loc='upper left')\n",
    "plt.show()\n",
    "# summarize history for loss\n",
    "plt.plot(history.history['loss'])\n",
    "plt.plot(history.history['val_loss'])\n",
    "plt.title('model loss')\n",
    "plt.ylabel('loss')\n",
    "plt.xlabel('epoch')\n",
    "plt.legend(['train', 'test'], loc='upper left')\n",
    "plt.show()"
   ]
  },
  {
   "cell_type": "code",
   "execution_count": 13,
   "metadata": {},
   "outputs": [
    {
     "name": "stdout",
     "output_type": "stream",
     "text": [
      "85/85 [==============================] - 12s 142ms/step\n",
      "Confusion Matrix\n",
      "[[ 51  29  36 134 101  44]\n",
      " [ 53  41  39 105 101  42]\n",
      " [ 61  26  39 109 117  36]\n",
      " [ 80  41  54 180 166  80]\n",
      " [ 69  39  57 177 139  49]\n",
      " [ 56  30  50 116 111  40]]\n",
      "Classification Report\n",
      "               precision    recall  f1-score   support\n",
      "\n",
      "  freshapples       0.14      0.13      0.13       395\n",
      "  freshbanana       0.20      0.11      0.14       381\n",
      " freshoranges       0.14      0.10      0.12       388\n",
      " rottenapples       0.22      0.30      0.25       601\n",
      " rottenbanana       0.19      0.26      0.22       530\n",
      "rottenoranges       0.14      0.10      0.12       403\n",
      "\n",
      "     accuracy                           0.18      2698\n",
      "    macro avg       0.17      0.17      0.16      2698\n",
      " weighted avg       0.18      0.18      0.17      2698\n",
      "\n"
     ]
    }
   ],
   "source": [
    "import numpy as np\n",
    "from sklearn.metrics import classification_report, confusion_matrix\n",
    "\n",
    "Y_pred = model.predict(test_it, test_it.samples // test_it.batch_size + 1, verbose = 1)\n",
    "y_pred = np.argmax(Y_pred, axis=1)\n",
    "print('Confusion Matrix')\n",
    "print(confusion_matrix(test_it.classes, y_pred))\n",
    "print('Classification Report')\n",
    "target_names = ['freshapples', 'freshbanana', 'freshoranges', 'rottenapples', 'rottenbanana', 'rottenoranges']\n",
    "print(classification_report(test_it.classes, y_pred, target_names=target_names))"
   ]
  }
 ],
 "metadata": {
  "interpreter": {
   "hash": "63fd5069d213b44bf678585dea6b12cceca9941eaf7f819626cde1f2670de90d"
  },
  "kernelspec": {
   "display_name": "Python 3",
   "language": "python",
   "name": "python3"
  },
  "language_info": {
   "codemirror_mode": {
    "name": "ipython",
    "version": 3
   },
   "file_extension": ".py",
   "mimetype": "text/x-python",
   "name": "python",
   "nbconvert_exporter": "python",
   "pygments_lexer": "ipython3",
   "version": "3.9.2"
  }
 },
 "nbformat": 4,
 "nbformat_minor": 4
}
