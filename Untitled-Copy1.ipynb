{
 "cells": [
  {
   "cell_type": "code",
   "execution_count": 2,
   "id": "hispanic-firmware",
   "metadata": {},
   "outputs": [
    {
     "name": "stdout",
     "output_type": "stream",
     "text": [
      "Found 10901 images belonging to 6 classes.\n",
      "Found 2698 images belonging to 6 classes.\n",
      "Batch shape=(32, 256, 256, 3), min=0.000, max=255.000\n"
     ]
    }
   ],
   "source": [
    "# data loading\n",
    "\n",
    "from keras.preprocessing.image import ImageDataGenerator\n",
    "# create generator\n",
    "datagen = ImageDataGenerator()\n",
    "# prepare an iterators for each dataset\n",
    "train_it = datagen.flow_from_directory('dataset/train/', class_mode='categorical')\n",
    "test_it = datagen.flow_from_directory('dataset/test/', class_mode='categorical')\n",
    "# confirm the iterator works\n",
    "batchX, batchy = train_it.next()\n",
    "print('Batch shape=%s, min=%.3f, max=%.3f' % (batchX.shape, batchX.min(), batchX.max()))"
   ]
  },
  {
   "cell_type": "code",
   "execution_count": 27,
   "id": "meaningful-holocaust",
   "metadata": {},
   "outputs": [],
   "source": [
    "from keras.models import Sequential\n",
    "from keras.layers import Dense, Dropout, Conv2D, MaxPool2D, Flatten\n",
    "# model\n",
    "\n",
    "model = Sequential()\n",
    "\n",
    "# Step 1 - Convolution\n",
    "model.add(Conv2D(25, kernel_size=(3,3), strides=(1,1), padding='valid', activation='relu', input_shape=(256,256,3)))\n",
    "\n",
    "# Step 2 - MaxPool2D\n",
    "model.add(MaxPool2D(pool_size = (2, 2)))\n",
    "\n",
    "# Adding a second convolutional layer\n",
    "model.add(Conv2D(32, 3, 3, activation = 'relu'))\n",
    "model.add(MaxPool2D(pool_size = (2, 2)))\n",
    "\n",
    "# Step 3 - Flattening\n",
    "model.add(Flatten())\n",
    "\n",
    "# Step 4 - Full connection\n",
    "model.add(Dense(128, activation = 'relu'))\n",
    "model.add(Dense(6, activation = 'softmax'))"
   ]
  },
  {
   "cell_type": "code",
   "execution_count": 28,
   "id": "generic-dependence",
   "metadata": {},
   "outputs": [
    {
     "name": "stdout",
     "output_type": "stream",
     "text": [
      "Model: \"sequential_12\"\n",
      "_________________________________________________________________\n",
      "Layer (type)                 Output Shape              Param #   \n",
      "=================================================================\n",
      "conv2d_19 (Conv2D)           (None, 254, 254, 25)      700       \n",
      "_________________________________________________________________\n",
      "max_pooling2d_17 (MaxPooling (None, 127, 127, 25)      0         \n",
      "_________________________________________________________________\n",
      "conv2d_20 (Conv2D)           (None, 42, 42, 32)        7232      \n",
      "_________________________________________________________________\n",
      "max_pooling2d_18 (MaxPooling (None, 21, 21, 32)        0         \n",
      "_________________________________________________________________\n",
      "flatten_9 (Flatten)          (None, 14112)             0         \n",
      "_________________________________________________________________\n",
      "dense_16 (Dense)             (None, 128)               1806464   \n",
      "_________________________________________________________________\n",
      "dense_17 (Dense)             (None, 6)                 774       \n",
      "=================================================================\n",
      "Total params: 1,815,170\n",
      "Trainable params: 1,815,170\n",
      "Non-trainable params: 0\n",
      "_________________________________________________________________\n"
     ]
    }
   ],
   "source": [
    "model.summary()"
   ]
  },
  {
   "cell_type": "code",
   "execution_count": 29,
   "id": "challenging-decimal",
   "metadata": {},
   "outputs": [
    {
     "name": "stdout",
     "output_type": "stream",
     "text": [
      "Epoch 1/10\n",
      "341/341 [==============================] - 105s 305ms/step - loss: 68.0756 - accuracy: 0.4622 - val_loss: 0.6553 - val_accuracy: 0.7676\n",
      "Epoch 2/10\n",
      "341/341 [==============================] - 105s 307ms/step - loss: 0.5569 - accuracy: 0.8052 - val_loss: 0.6002 - val_accuracy: 0.7902\n",
      "Epoch 3/10\n",
      "341/341 [==============================] - 110s 322ms/step - loss: 0.3713 - accuracy: 0.8646 - val_loss: 0.4804 - val_accuracy: 0.8314\n",
      "Epoch 4/10\n",
      "341/341 [==============================] - 105s 307ms/step - loss: 0.2713 - accuracy: 0.9044 - val_loss: 0.3892 - val_accuracy: 0.8710\n",
      "Epoch 5/10\n",
      "341/341 [==============================] - 102s 299ms/step - loss: 0.2040 - accuracy: 0.9297 - val_loss: 0.3927 - val_accuracy: 0.8718\n",
      "Epoch 6/10\n",
      "341/341 [==============================] - 102s 299ms/step - loss: 0.1476 - accuracy: 0.9495 - val_loss: 0.4482 - val_accuracy: 0.8617\n",
      "Epoch 7/10\n",
      "341/341 [==============================] - 103s 301ms/step - loss: 0.1355 - accuracy: 0.9511 - val_loss: 0.5000 - val_accuracy: 0.8517\n",
      "Epoch 8/10\n",
      "341/341 [==============================] - 106s 311ms/step - loss: 0.2247 - accuracy: 0.9300 - val_loss: 0.4369 - val_accuracy: 0.8792\n",
      "Epoch 9/10\n",
      "341/341 [==============================] - 105s 307ms/step - loss: 0.0840 - accuracy: 0.9713 - val_loss: 0.5078 - val_accuracy: 0.8777\n",
      "Epoch 10/10\n",
      "341/341 [==============================] - 102s 298ms/step - loss: 0.0872 - accuracy: 0.9721 - val_loss: 0.5251 - val_accuracy: 0.8695\n"
     ]
    }
   ],
   "source": [
    "# compiling the sequential model\n",
    "from keras.utils import np_utils\n",
    "\n",
    "# to calculate accuracy\n",
    "from sklearn.metrics import accuracy_score\n",
    "\n",
    "\n",
    "model.compile(loss='categorical_crossentropy', metrics=['accuracy'], optimizer='adam')\n",
    "\n",
    "history = model.fit(train_it, epochs=10, validation_data=test_it, verbose = 1)"
   ]
  },
  {
   "cell_type": "code",
   "execution_count": 30,
   "id": "animal-insert",
   "metadata": {},
   "outputs": [
    {
     "name": "stdout",
     "output_type": "stream",
     "text": [
      "dict_keys(['loss', 'accuracy', 'val_loss', 'val_accuracy'])\n"
     ]
    },
    {
     "data": {
      "image/png": "[encoded data removed]",
      "text/plain": [
       "<Figure size 432x288 with 1 Axes>"
      ]
     },
     "metadata": {
      "needs_background": "light"
     },
     "output_type": "display_data"
    },
    {
     "data": {
      "image/png": "[encoded data removed]",
      "text/plain": [
       "<Figure size 432x288 with 1 Axes>"
      ]
     },
     "metadata": {
      "needs_background": "light"
     },
     "output_type": "display_data"
    }
   ],
   "source": [
    "import matplotlib.pyplot as plt\n",
    "import numpy\n",
    "# list all data in history\n",
    "print(history.history.keys())\n",
    "# summarize history for accuracy\n",
    "plt.plot(history.history['accuracy'])\n",
    "plt.plot(history.history['val_accuracy'])\n",
    "plt.title('model accuracy')\n",
    "plt.ylabel('accuracy')\n",
    "plt.xlabel('epoch')\n",
    "plt.legend(['train', 'test'], loc='upper left')\n",
    "plt.show()\n",
    "# summarize history for loss\n",
    "plt.plot(history.history['loss'])\n",
    "plt.plot(history.history['val_loss'])\n",
    "plt.title('model loss')\n",
    "plt.ylabel('loss')\n",
    "plt.xlabel('epoch')\n",
    "plt.legend(['train', 'test'], loc='upper left')\n",
    "plt.show()"
   ]
  }
 ],
 "metadata": {
  "kernelspec": {
   "display_name": "Python 3",
   "language": "python",
   "name": "python3"
  },
  "language_info": {
   "codemirror_mode": {
    "name": "ipython",
    "version": 3
   },
   "file_extension": ".py",
   "mimetype": "text/x-python",
   "name": "python",
   "nbconvert_exporter": "python",
   "pygments_lexer": "ipython3",
   "version": "3.9.2"
  }
 },
 "nbformat": 4,
 "nbformat_minor": 5
}
